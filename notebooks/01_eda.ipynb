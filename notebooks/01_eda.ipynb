{
 "cells": [
  {
   "cell_type": "markdown",
   "id": "0",
   "metadata": {},
   "source": [
    "# 0 - Set-Up"
   ]
  },
  {
   "cell_type": "markdown",
   "id": "1",
   "metadata": {},
   "source": [
    "### Environment Set Up "
   ]
  },
  {
   "cell_type": "code",
   "execution_count": null,
   "id": "2",
   "metadata": {},
   "outputs": [],
   "source": [
    "# Install required packages\n",
    "!pip install -qq -r ../requirements.txt\n",
    "\n",
    "import sys\n",
    "\n",
    "REL_PATH_TO_ROOT = \"../\"\n",
    "\n",
    "sys.path.insert(0,REL_PATH_TO_ROOT)\n",
    "\n",
    "from src.utils import get_root_dir, test_root_dir\n",
    "from local_variables import ROOT_DIR\n",
    "\n",
    "test_root_dir(REL_PATH_TO_ROOT)"
   ]
  },
  {
   "cell_type": "markdown",
   "id": "3",
   "metadata": {},
   "source": [
    "### Import Packages"
   ]
  },
  {
   "cell_type": "code",
   "execution_count": null,
   "id": "4",
   "metadata": {},
   "outputs": [],
   "source": [
    "import pandas as pd\n",
    "import matplotlib.pyplot as plt\n",
    "import seaborn as sns\n",
    "import numpy as np"
   ]
  },
  {
   "cell_type": "markdown",
   "id": "5",
   "metadata": {},
   "source": [
    "### Load Data"
   ]
  },
  {
   "cell_type": "code",
   "execution_count": null,
   "id": "6",
   "metadata": {},
   "outputs": [],
   "source": [
    "files_of_interest = [\"calendar.csv\",\"listings.csv\"]\n",
    "years = [\"2023\",\"2024\"]"
   ]
  },
  {
   "cell_type": "code",
   "execution_count": null,
   "id": "7",
   "metadata": {},
   "outputs": [],
   "source": [
    "cal_df = pd.concat([pd.read_csv(f\"{get_root_dir()}/data/{year}_tokyo/calendar.csv\") for year in years],ignore_index=True)"
   ]
  },
  {
   "cell_type": "code",
   "execution_count": null,
   "id": "8",
   "metadata": {},
   "outputs": [],
   "source": [
    "list_df = pd.concat([pd.read_csv(f\"{get_root_dir()}/data/{year}_tokyo/listings.csv\") for year in years],ignore_index=True)"
   ]
  },
  {
   "cell_type": "markdown",
   "id": "9",
   "metadata": {},
   "source": [
    "# 1 - Initial EDA"
   ]
  },
  {
   "cell_type": "markdown",
   "id": "10",
   "metadata": {},
   "source": [
    "## 1.1 - High-Level View - Calendar"
   ]
  },
  {
   "cell_type": "markdown",
   "id": "11",
   "metadata": {},
   "source": [
    "### 1.1.1 - Data Structure"
   ]
  },
  {
   "cell_type": "code",
   "execution_count": null,
   "id": "12",
   "metadata": {},
   "outputs": [],
   "source": [
    "cal_df.head()"
   ]
  },
  {
   "cell_type": "code",
   "execution_count": null,
   "id": "13",
   "metadata": {},
   "outputs": [],
   "source": [
    "print(\"Each row corresponds to one data and one property based on the listing id\")"
   ]
  },
  {
   "cell_type": "code",
   "execution_count": null,
   "id": "14",
   "metadata": {},
   "outputs": [],
   "source": [
    "#Number of unique properties\n",
    "cal_df[\"listing_id\"].nunique()"
   ]
  },
  {
   "cell_type": "markdown",
   "id": "15",
   "metadata": {},
   "source": [
    "### 1.1.2 - Date Range"
   ]
  },
  {
   "cell_type": "code",
   "execution_count": null,
   "id": "16",
   "metadata": {},
   "outputs": [],
   "source": [
    "#Time range\n",
    "cal_df[\"date_dt\"] = pd.to_datetime(cal_df[\"date\"])\n",
    "cal_df[\"date_dt\"].dt.to_period('M').value_counts().sort_index().plot(kind='line')"
   ]
  },
  {
   "cell_type": "code",
   "execution_count": null,
   "id": "17",
   "metadata": {},
   "outputs": [],
   "source": [
    "cal_df.shape[0]"
   ]
  },
  {
   "cell_type": "code",
   "execution_count": null,
   "id": "18",
   "metadata": {},
   "outputs": [],
   "source": [
    "# Jump in counts for 2024-07, are there duplicates?\n",
    "dropped_dups = cal_df.drop_duplicates()"
   ]
  },
  {
   "cell_type": "code",
   "execution_count": null,
   "id": "19",
   "metadata": {},
   "outputs": [],
   "source": [
    "dropped_dups.shape[0]"
   ]
  },
  {
   "cell_type": "code",
   "execution_count": null,
   "id": "20",
   "metadata": {},
   "outputs": [],
   "source": [
    "print(\"No duplicates found\")"
   ]
  },
  {
   "cell_type": "markdown",
   "id": "21",
   "metadata": {},
   "source": [
    "### 1.1.3 - Price Distribution"
   ]
  },
  {
   "cell_type": "code",
   "execution_count": null,
   "id": "22",
   "metadata": {},
   "outputs": [],
   "source": [
    "cal_df[\"price_num\"] = cal_df[\"price\"].str.replace(\"$\",\"\")\n",
    "cal_df[\"price_num\"] = cal_df[\"price_num\"].str.replace(\",\",\"\")\n",
    "cal_df[\"price_num\"] = cal_df[\"price_num\"].astype(float)"
   ]
  },
  {
   "cell_type": "code",
   "execution_count": null,
   "id": "23",
   "metadata": {},
   "outputs": [],
   "source": [
    "sns.histplot(data=cal_df,x=\"price_num\",log_scale=True,bins=15)"
   ]
  },
  {
   "cell_type": "markdown",
   "id": "24",
   "metadata": {},
   "source": [
    "### 1.1.4 - Average Prices Over Time"
   ]
  },
  {
   "cell_type": "code",
   "execution_count": null,
   "id": "25",
   "metadata": {},
   "outputs": [],
   "source": [
    "def average_x_time_plot(df,datefield,x,show_percentiles=False,percentile=0.95,group_var=None,log_scale=True):\n",
    "    work_df = df.copy(deep=False)\n",
    "\n",
    "    work_df[datefield] = pd.to_datetime(work_df[datefield])\n",
    "\n",
    "    if group_var == None:\n",
    "        group_fields = datefield\n",
    "    else:\n",
    "        group_fields = [datefield,group_var]\n",
    "    \n",
    "    if show_percentiles:\n",
    "        perc = 1-percentile\n",
    "        summary_stats = work_df.groupby(group_fields)[x].agg(avg='mean',lower_bound=lambda x: x.quantile(perc/2),\n",
    "    upper_bound=lambda x: x.quantile(1-perc/2)).reset_index()\n",
    "    else:\n",
    "        summary_stats = work_df.groupby(group_fields)[x].agg(avg='mean').reset_index()\n",
    "\n",
    "    if log_scale:\n",
    "        summary_stats[f\"log_{x}\"] = np.log(summary_stats['avg'])\n",
    "        if show_percentiles:\n",
    "            summary_stats['log_lower_bound'] = np.log(summary_stats['lower_bound'])\n",
    "            summary_stats['log_upper_bound'] = np.log(summary_stats['upper_bound'])\n",
    "\n",
    "    plt.figure(figsize=(12, 6))\n",
    "\n",
    "    sns_palette = sns.color_palette(n_colors=summary_stats[group_var].nunique() if group_var else 1)\n",
    "    \n",
    "    sns.lineplot(data=summary_stats, x=summary_stats[datefield],y=f\"log_{x}\" if log_scale else 'avg',hue=group_var, linewidth=2,palette=sns_palette)\n",
    "    \n",
    "    if show_percentiles and group_var:\n",
    "        for color, (group, group_data) in zip(sns_palette, summary_stats.groupby(group_var)):\n",
    "            plt.fill_between(\n",
    "                group_data[datefield],\n",
    "                group_data['log_lower_bound'] if log_scale else group_data['lower_bound'],\n",
    "                group_data['log_upper_bound'] if log_scale else group_data['upper_bound'],\n",
    "                alpha=0.2,\n",
    "                color=color,\n",
    "                label=f'{group} {100 * percentile}% Percentile Range'\n",
    "            )\n",
    "\n",
    "    elif show_percentiles:  # For no group_var, single fill_between\n",
    "        plt.fill_between(\n",
    "            summary_stats[datefield],\n",
    "            summary_stats['log_lower_bound'] if log_scale else summary_stats['lower_bound'],\n",
    "            summary_stats['log_upper_bound'] if log_scale else summary_stats['upper_bound'],\n",
    "            alpha=0.3,\n",
    "            color=sns_palette[0],\n",
    "            label=f'{100 * percentile}% Percentile Range'\n",
    "        )\n",
    "    \n",
    "    plt.xlabel('Date')\n",
    "    plt.ylabel(f'Log ')\n",
    "    plt.title(f'Average Log {x.capitalize()} Over Time with {100*percentile}% Percentile Bounds')\n",
    "    plt.legend()\n",
    "    plt.show()"
   ]
  },
  {
   "cell_type": "code",
   "execution_count": null,
   "id": "26",
   "metadata": {},
   "outputs": [],
   "source": [
    "average_x_time_plot(cal_df,\"date\",\"price_num\",show_percentiles=True)"
   ]
  },
  {
   "cell_type": "code",
   "execution_count": null,
   "id": "27",
   "metadata": {},
   "outputs": [],
   "source": [
    "print(\"Huge variability in the price at a given time, what determines the price?\")"
   ]
  },
  {
   "cell_type": "code",
   "execution_count": null,
   "id": "28",
   "metadata": {},
   "outputs": [],
   "source": [
    "average_x_time_plot(cal_df,\"date\",\"price_num\",show_percentiles=True,group_var=\"available\")"
   ]
  },
  {
   "cell_type": "code",
   "execution_count": null,
   "id": "29",
   "metadata": {},
   "outputs": [],
   "source": [
    "print(\"Doesn't seem to make a huge difference, although unoccupied properties tend to be priced lower\")"
   ]
  },
  {
   "cell_type": "markdown",
   "id": "30",
   "metadata": {},
   "source": [
    "## 1.2 - Listings"
   ]
  },
  {
   "cell_type": "code",
   "execution_count": null,
   "id": "31",
   "metadata": {},
   "outputs": [],
   "source": [
    "list_df.columns"
   ]
  },
  {
   "cell_type": "code",
   "execution_count": null,
   "id": "32",
   "metadata": {},
   "outputs": [],
   "source": [
    "list_df.head()"
   ]
  },
  {
   "cell_type": "code",
   "execution_count": null,
   "id": "33",
   "metadata": {},
   "outputs": [],
   "source": [
    "print(\"Unique to id and last_scraped level\")"
   ]
  },
  {
   "cell_type": "markdown",
   "id": "34",
   "metadata": {},
   "source": [
    "### 1.2.1 - Time Structure in Dataframe"
   ]
  },
  {
   "cell_type": "code",
   "execution_count": null,
   "id": "35",
   "metadata": {},
   "outputs": [],
   "source": [
    "test_ids = list_df[\"id\"].head().values"
   ]
  },
  {
   "cell_type": "code",
   "execution_count": null,
   "id": "36",
   "metadata": {},
   "outputs": [],
   "source": [
    "list_df[list_df[\"id\"].isin(test_ids)].sort_values(by=\"id\")"
   ]
  },
  {
   "cell_type": "code",
   "execution_count": null,
   "id": "37",
   "metadata": {},
   "outputs": [],
   "source": [
    "# How many listings have data for both years?\n",
    "list_df[\"id\"].value_counts().reset_index()[\"count\"].value_counts(normalize=True)"
   ]
  },
  {
   "cell_type": "code",
   "execution_count": null,
   "id": "38",
   "metadata": {},
   "outputs": [],
   "source": [
    "print(\"Around 50% only appear for one year\")"
   ]
  },
  {
   "cell_type": "markdown",
   "id": "39",
   "metadata": {},
   "source": [
    "### 1.2.2 - Review Data"
   ]
  },
  {
   "cell_type": "code",
   "execution_count": null,
   "id": "40",
   "metadata": {},
   "outputs": [],
   "source": [
    "list_df[\"review_scores_rating\"].hist(bins=5)"
   ]
  },
  {
   "cell_type": "code",
   "execution_count": null,
   "id": "41",
   "metadata": {},
   "outputs": [],
   "source": [
    "list_df[\"review_scores_rating\"].isna().mean()"
   ]
  },
  {
   "cell_type": "markdown",
   "id": "42",
   "metadata": {},
   "source": [
    "### 1.1.3 - Number of Rooms"
   ]
  },
  {
   "cell_type": "code",
   "execution_count": null,
   "id": "43",
   "metadata": {},
   "outputs": [],
   "source": [
    "average_prices = cal_df[[\"listing_id\",\"price_num\"]].groupby(by=\"listing_id\",as_index=False).agg(\"mean\")"
   ]
  },
  {
   "cell_type": "code",
   "execution_count": null,
   "id": "44",
   "metadata": {},
   "outputs": [],
   "source": [
    "price_room_df = pd.merge(left=average_prices,right=list_df[[\"id\",\"bedrooms\"]].rename(columns={\"id\":\"listing_id\"}),how=\"inner\",on=\"listing_id\")"
   ]
  },
  {
   "cell_type": "code",
   "execution_count": null,
   "id": "45",
   "metadata": {},
   "outputs": [],
   "source": [
    "perc=0.05\n",
    "price_by_room_df = price_room_df[[\"bedrooms\",\"price_num\"]].groupby(by=\"bedrooms\",as_index=True)[\"price_num\"].agg(avg_price=\"mean\",lower_bound=lambda x: x.quantile(perc/2),\n",
    "    upper_bound=lambda x: x.quantile(1-perc/2)).reset_index()"
   ]
  },
  {
   "cell_type": "code",
   "execution_count": null,
   "id": "46",
   "metadata": {},
   "outputs": [],
   "source": [
    "price_by_room_df.head()"
   ]
  },
  {
   "cell_type": "code",
   "execution_count": null,
   "id": "47",
   "metadata": {},
   "outputs": [],
   "source": [
    "sns.barplot(data=price_by_room_df.sort_values(by=\"bedrooms\",ascending=True),x=\"bedrooms\",y=\"avg_price\")\n",
    "sns.barplot(data=price_by_room_df.sort_values(by=\"bedrooms\",ascending=True),x=\"bedrooms\",y=\"lower_bound\",color='r',alpha=0.3)\n",
    "sns.barplot(data=price_by_room_df.sort_values(by=\"bedrooms\",ascending=True),x=\"bedrooms\",y=\"upper_bound\",color='g',alpha=0.3)"
   ]
  },
  {
   "cell_type": "code",
   "execution_count": null,
   "id": "48",
   "metadata": {},
   "outputs": [],
   "source": [
    "print(\"Bedrooms seems to have some correlation to price for less than 5 bedrooms, perhaps 6 bedrooms represent hostels etc.\")"
   ]
  },
  {
   "cell_type": "code",
   "execution_count": null,
   "id": "49",
   "metadata": {},
   "outputs": [],
   "source": [
    "list_df[\"bedrooms\"].value_counts().reset_index().sort_values(by=\"bedrooms\",ascending=True)"
   ]
  },
  {
   "cell_type": "markdown",
   "id": "50",
   "metadata": {},
   "source": [
    "### 1.1.4 - Neighbourhood"
   ]
  },
  {
   "cell_type": "code",
   "execution_count": null,
   "id": "51",
   "metadata": {},
   "outputs": [],
   "source": [
    "list_df[\"neighbourhood\"].nunique()"
   ]
  },
  {
   "cell_type": "code",
   "execution_count": null,
   "id": "52",
   "metadata": {},
   "outputs": [],
   "source": [
    "list_df[\"neighbourhood_cleansed\"].nunique()"
   ]
  },
  {
   "cell_type": "code",
   "execution_count": null,
   "id": "53",
   "metadata": {},
   "outputs": [],
   "source": [
    "neighbourhood_price_df = pd.merge(left=average_prices,right=list_df[[\"id\",\"neighbourhood_cleansed\"]].rename(columns={\"id\":\"listing_id\"}),how=\"inner\",on=\"listing_id\")"
   ]
  },
  {
   "cell_type": "code",
   "execution_count": null,
   "id": "54",
   "metadata": {},
   "outputs": [],
   "source": [
    "price_by_neigh_df = neighbourhood_price_df.groupby(\"neighbourhood_cleansed\",as_index=False).agg(\"mean\")"
   ]
  },
  {
   "cell_type": "code",
   "execution_count": null,
   "id": "55",
   "metadata": {},
   "outputs": [],
   "source": [
    "sns.barplot(data=price_by_neigh_df.sort_values(by=\"price_num\",ascending=False),x=\"neighbourhood_cleansed\",y=\"price_num\",hue=\"neighbourhood_cleansed\")"
   ]
  },
  {
   "cell_type": "code",
   "execution_count": null,
   "id": "56",
   "metadata": {},
   "outputs": [],
   "source": [
    "print(\"Neighbourhood seems to have a big impact on price\")"
   ]
  },
  {
   "cell_type": "code",
   "execution_count": null,
   "id": "57",
   "metadata": {},
   "outputs": [],
   "source": []
  }
 ],
 "metadata": {
  "kernelspec": {
   "display_name": "Python 3 (ipykernel)",
   "language": "python",
   "name": "python3"
  },
  "language_info": {
   "codemirror_mode": {
    "name": "ipython",
    "version": 3
   },
   "file_extension": ".py",
   "mimetype": "text/x-python",
   "name": "python",
   "nbconvert_exporter": "python",
   "pygments_lexer": "ipython3",
   "version": "3.12.3"
  }
 },
 "nbformat": 4,
 "nbformat_minor": 5
}
