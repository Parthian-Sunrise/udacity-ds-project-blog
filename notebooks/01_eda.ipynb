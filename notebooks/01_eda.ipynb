{
 "cells": [
  {
   "cell_type": "markdown",
   "id": "0",
   "metadata": {},
   "source": [
    "# 0 - Set-Up"
   ]
  },
  {
   "cell_type": "markdown",
   "id": "1",
   "metadata": {},
   "source": [
    "### Environment Set Up "
   ]
  },
  {
   "cell_type": "code",
   "execution_count": null,
   "id": "2",
   "metadata": {},
   "outputs": [],
   "source": [
    "# Install required packages\n",
    "!pip install -qq -r ../requirements.txt\n",
    "\n",
    "# Set up root directory\n",
    "import sys\n",
    "\n",
    "REL_PATH_TO_ROOT = \"../\"\n",
    "\n",
    "sys.path.insert(0,REL_PATH_TO_ROOT)\n",
    "\n",
    "from src.utils import get_root_dir, test_root_dir\n",
    "from local_variables import ROOT_DIR\n",
    "\n",
    "test_root_dir(REL_PATH_TO_ROOT)"
   ]
  },
  {
   "cell_type": "code",
   "execution_count": null,
   "id": "3",
   "metadata": {},
   "outputs": [],
   "source": [
    "# Get project questions\n",
    "from questions.questions import questions as QQQQ"
   ]
  },
  {
   "cell_type": "markdown",
   "id": "4",
   "metadata": {},
   "source": [
    "### Import Packages"
   ]
  },
  {
   "cell_type": "code",
   "execution_count": null,
   "id": "5",
   "metadata": {},
   "outputs": [],
   "source": [
    "# Import project specific packages\n",
    "import pandas as pd\n",
    "import matplotlib.pyplot as plt\n",
    "import seaborn as sns\n",
    "import numpy as np"
   ]
  },
  {
   "cell_type": "markdown",
   "id": "6",
   "metadata": {},
   "source": [
    "### Load Data"
   ]
  },
  {
   "cell_type": "code",
   "execution_count": null,
   "id": "7",
   "metadata": {},
   "outputs": [],
   "source": [
    "# Relevant files for AirBnB\n",
    "files_of_interest = [\"calendar.csv\",\"listings.csv\"]\n",
    "years = [\"2023\",\"2024\"]"
   ]
  },
  {
   "cell_type": "code",
   "execution_count": null,
   "id": "8",
   "metadata": {},
   "outputs": [],
   "source": [
    "# Concatenate for 2023 and 2024\n",
    "cal_df = pd.concat([pd.read_csv(f\"{get_root_dir()}/data/{year}_tokyo/calendar.csv\") for year in years],ignore_index=True)"
   ]
  },
  {
   "cell_type": "code",
   "execution_count": null,
   "id": "9",
   "metadata": {},
   "outputs": [],
   "source": [
    "# Concatenate for 2023 and 2024\n",
    "list_df = pd.concat([pd.read_csv(f\"{get_root_dir()}/data/{year}_tokyo/listings.csv\") for year in years],ignore_index=True)"
   ]
  },
  {
   "cell_type": "code",
   "execution_count": null,
   "id": "10",
   "metadata": {},
   "outputs": [],
   "source": [
    "# Print out questions\n",
    "def get_question(question_num):\n",
    "    print(QQQQ[question_num])\n",
    "\n",
    "for i in range(1,5):\n",
    "    get_question(str(i))"
   ]
  },
  {
   "cell_type": "markdown",
   "id": "11",
   "metadata": {},
   "source": [
    "# 1 - Initial EDA"
   ]
  },
  {
   "cell_type": "markdown",
   "id": "12",
   "metadata": {},
   "source": [
    "## 1.1 - High-Level View - Calendar"
   ]
  },
  {
   "cell_type": "markdown",
   "id": "13",
   "metadata": {},
   "source": [
    "### 1.1.1 - Data Structure"
   ]
  },
  {
   "cell_type": "code",
   "execution_count": null,
   "id": "14",
   "metadata": {},
   "outputs": [],
   "source": [
    "cal_df.head()"
   ]
  },
  {
   "cell_type": "code",
   "execution_count": null,
   "id": "15",
   "metadata": {},
   "outputs": [],
   "source": [
    "print(\"Each row corresponds to one data and one property based on the listing id\")"
   ]
  },
  {
   "cell_type": "code",
   "execution_count": null,
   "id": "16",
   "metadata": {},
   "outputs": [],
   "source": [
    "#Number of unique properties\n",
    "cal_df[\"listing_id\"].nunique()"
   ]
  },
  {
   "cell_type": "markdown",
   "id": "17",
   "metadata": {},
   "source": [
    "### 1.1.2 - Date Range"
   ]
  },
  {
   "cell_type": "code",
   "execution_count": null,
   "id": "18",
   "metadata": {},
   "outputs": [],
   "source": [
    "#Time range\n",
    "cal_df[\"date_dt\"] = pd.to_datetime(cal_df[\"date\"])\n",
    "cal_df[\"date_dt\"].dt.to_period('M').value_counts().sort_index().plot(kind='line')"
   ]
  },
  {
   "cell_type": "code",
   "execution_count": null,
   "id": "19",
   "metadata": {},
   "outputs": [],
   "source": [
    "cal_df.shape[0]"
   ]
  },
  {
   "cell_type": "code",
   "execution_count": null,
   "id": "20",
   "metadata": {},
   "outputs": [],
   "source": [
    "# Jump in counts for 2024-07, are there duplicates?\n",
    "dropped_dups = cal_df.drop_duplicates()"
   ]
  },
  {
   "cell_type": "code",
   "execution_count": null,
   "id": "21",
   "metadata": {},
   "outputs": [],
   "source": [
    "dropped_dups.shape[0]"
   ]
  },
  {
   "cell_type": "code",
   "execution_count": null,
   "id": "22",
   "metadata": {},
   "outputs": [],
   "source": [
    "print(\"No duplicates found\")"
   ]
  },
  {
   "cell_type": "markdown",
   "id": "23",
   "metadata": {},
   "source": [
    "### 1.1.3 - Price Distribution"
   ]
  },
  {
   "cell_type": "code",
   "execution_count": null,
   "id": "24",
   "metadata": {},
   "outputs": [],
   "source": [
    "# Turn price string into a number\n",
    "cal_df[\"price_num\"] = cal_df[\"price\"].str.replace(\"$\",\"\")\n",
    "cal_df[\"price_num\"] = cal_df[\"price_num\"].str.replace(\",\",\"\")\n",
    "cal_df[\"price_num\"] = cal_df[\"price_num\"].astype(float)"
   ]
  },
  {
   "cell_type": "code",
   "execution_count": null,
   "id": "25",
   "metadata": {},
   "outputs": [],
   "source": [
    "# Plot distribution (use log scale due to wide variation of values)\n",
    "sns.histplot(data=cal_df,x=\"price_num\",log_scale=True,bins=15)"
   ]
  },
  {
   "cell_type": "markdown",
   "id": "26",
   "metadata": {},
   "source": [
    "### 1.1.4 - Average Prices Over Time"
   ]
  },
  {
   "cell_type": "code",
   "execution_count": null,
   "id": "27",
   "metadata": {},
   "outputs": [],
   "source": [
    "def average_x_time_plot(df,datefield,x,show_percentiles=False,percentile=0.95,group_var=None,log_scale=True):\n",
    "    def average_x_time_plot(df, datefield, x, show_percentiles=False, percentile=0.95, group_var=None, log_scale=True):\n",
    "    \"\"\"\n",
    "    Plots the average of a specified column (`x`) over time, with options for percentile bounds \n",
    "    and grouping by an additional variable.\n",
    "\n",
    "    Parameters:\n",
    "    ----------\n",
    "    df : pandas.DataFrame\n",
    "        The input DataFrame containing the data to be plotted.\n",
    "    datefield : str\n",
    "        The name of the column representing dates.\n",
    "    x : str\n",
    "        The column for which averages are computed and plotted.\n",
    "    show_percentiles : bool, optional, default=False\n",
    "        Whether to display percentile bounds on the plot. \n",
    "        If True, shaded areas showing percentile bounds are added.\n",
    "    percentile : float, optional, default=0.95\n",
    "        The desired percentile range to display if `show_percentiles` is True. \n",
    "        For example, 0.95 corresponds to a 95% percentile range.\n",
    "    group_var : str or None, optional, default=None\n",
    "        An optional column for grouping the data. Separate lines and percentile bounds are plotted \n",
    "        for each unique value in this column if provided.\n",
    "    log_scale : bool, optional, default=True\n",
    "        Whether to apply a natural logarithm transformation to the averages and bounds \n",
    "        before plotting.\n",
    "\n",
    "    Returns:\n",
    "    -------\n",
    "    None\n",
    "        The function generates and displays the plot.\n",
    "\n",
    "    Notes:\n",
    "    ------\n",
    "    - If `log_scale` is True, the y-axis will represent the log-transformed values of `x`.\n",
    "    - When `show_percentiles` is True and `group_var` is provided, separate shaded areas \n",
    "      representing the percentile range are plotted for each group.\n",
    "    - The function uses Seaborn for line plotting and Matplotlib for additional styling.\n",
    "\n",
    "    Example:\n",
    "    --------\n",
    "    average_x_time_plot(\n",
    "        df=my_data, \n",
    "        datefield=\"date\", \n",
    "        x=\"value\", \n",
    "        show_percentiles=True, \n",
    "        percentile=0.9, \n",
    "        group_var=\"category\", \n",
    "        log_scale=False\n",
    "    )\n",
    "    \"\"\"\n",
    "\n",
    "    # Copy dataframe to avoid making changes\n",
    "    work_df = df.copy(deep=False)\n",
    "\n",
    "    # Convert data column to DT format\n",
    "    work_df[datefield] = pd.to_datetime(work_df[datefield])\n",
    "\n",
    "    # Set grouping variables depending on inputs\n",
    "    if group_var == None:\n",
    "        group_fields = datefield\n",
    "    else:\n",
    "        group_fields = [datefield,group_var]\n",
    "\n",
    "    # Get the summary stats depending on whether upper or lower bounds were wanted\n",
    "    if show_percentiles:\n",
    "        perc = 1-percentile\n",
    "        summary_stats = work_df.groupby(group_fields)[x].agg(avg='mean',lower_bound=lambda x: x.quantile(perc/2),\n",
    "    upper_bound=lambda x: x.quantile(1-perc/2)).reset_index()\n",
    "    else:\n",
    "        summary_stats = work_df.groupby(group_fields)[x].agg(avg='mean').reset_index()\n",
    "\n",
    "    # Create necessary transformed variables depending on log_scale argument \n",
    "    if log_scale:\n",
    "        summary_stats[f\"log_{x}\"] = np.log(summary_stats['avg'])\n",
    "        if show_percentiles:\n",
    "            summary_stats['log_lower_bound'] = np.log(summary_stats['lower_bound'])\n",
    "            summary_stats['log_upper_bound'] = np.log(summary_stats['upper_bound'])\n",
    "\n",
    "    # Create plot\n",
    "    plt.figure(figsize=(12, 6))\n",
    "\n",
    "    # Create a palette to keep colouring of bounds consistent with the line plot\n",
    "    sns_palette = sns.color_palette(n_colors=summary_stats[group_var].nunique() if group_var else 1)\n",
    "\n",
    "    # Plot lineplot of date against (log) of average x over time\n",
    "    sns.lineplot(data=summary_stats, x=summary_stats[datefield],y=f\"log_{x}\" if log_scale else 'avg',hue=group_var, linewidth=2,palette=sns_palette)\n",
    "\n",
    "    # Create bound plots if requested\n",
    "    if show_percentiles and group_var:\n",
    "        for color, (group, group_data) in zip(sns_palette, summary_stats.groupby(group_var)):\n",
    "            plt.fill_between(\n",
    "                group_data[datefield],\n",
    "                group_data['log_lower_bound'] if log_scale else group_data['lower_bound'],\n",
    "                group_data['log_upper_bound'] if log_scale else group_data['upper_bound'],\n",
    "                alpha=0.2,\n",
    "                color=color,\n",
    "                label=f'{group} {100 * percentile}% Percentile Range'\n",
    "            )\n",
    "\n",
    "    elif show_percentiles:  # For no group_var, single fill_between\n",
    "        plt.fill_between(\n",
    "            summary_stats[datefield],\n",
    "            summary_stats['log_lower_bound'] if log_scale else summary_stats['lower_bound'],\n",
    "            summary_stats['log_upper_bound'] if log_scale else summary_stats['upper_bound'],\n",
    "            alpha=0.3,\n",
    "            color=sns_palette[0],\n",
    "            label=f'{100 * percentile}% Percentile Range'\n",
    "        )\n",
    "    \n",
    "    plt.xlabel('Date')\n",
    "    plt.ylabel(f'Log ')\n",
    "    plt.title(f'Average {'Log ' if log_scale else \"\"}{x.capitalize()} Over Time with {100*percentile}% Percentile Bounds')\n",
    "    plt.legend()\n",
    "    plt.show()"
   ]
  },
  {
   "cell_type": "code",
   "execution_count": null,
   "id": "28",
   "metadata": {},
   "outputs": [],
   "source": [
    "# Plot average log price over time\n",
    "average_x_time_plot(cal_df,\"date\",\"price_num\",show_percentiles=True)"
   ]
  },
  {
   "cell_type": "code",
   "execution_count": null,
   "id": "29",
   "metadata": {},
   "outputs": [],
   "source": [
    "print(\"Huge variability in the price at a given time, what determines the price?\")"
   ]
  },
  {
   "cell_type": "code",
   "execution_count": null,
   "id": "30",
   "metadata": {},
   "outputs": [],
   "source": [
    "# Look at availability for price \n",
    "average_x_time_plot(cal_df,\"date\",\"price_num\",show_percentiles=True,group_var=\"available\")"
   ]
  },
  {
   "cell_type": "code",
   "execution_count": null,
   "id": "31",
   "metadata": {},
   "outputs": [],
   "source": [
    "print(\"Doesn't seem to make a huge difference, although unoccupied properties tend to be priced lower\")"
   ]
  },
  {
   "cell_type": "code",
   "execution_count": null,
   "id": "32",
   "metadata": {},
   "outputs": [],
   "source": [
    "# Look at availability for price \n",
    "plot_1_df = cal_df[cal_df[\"maximum_nights\"] <= 31]\n",
    "plot_2_df = cal_df[~(cal_df[\"maximum_nights\"] <= 31)]"
   ]
  },
  {
   "cell_type": "code",
   "execution_count": null,
   "id": "33",
   "metadata": {},
   "outputs": [],
   "source": [
    "plot_1_df['maximum_nights_group'] = pd.qcut(plot_1_df['maximum_nights'], q=4,duplicates=\"drop\")\n",
    "average_x_time_plot(plot_1_df,\"date\",\"price_num\",show_percentiles=False,group_var=\"maximum_nights_group\")"
   ]
  },
  {
   "cell_type": "code",
   "execution_count": null,
   "id": "34",
   "metadata": {},
   "outputs": [],
   "source": [
    "print(\"Seems that smaller maximum stays are generally more expensive, while maximum stays after a certain point are more comparable. Huge drop and rebound in 2024-07 may correspond to the large depreciation of the Yen (-8% agains the dollar) which occurred early July\")"
   ]
  },
  {
   "cell_type": "code",
   "execution_count": null,
   "id": "35",
   "metadata": {},
   "outputs": [],
   "source": [
    "plot_2_df['maximum_nights_group'] = pd.qcut(plot_2_df['maximum_nights'], q=5,duplicates=\"drop\")\n",
    "average_x_time_plot(plot_2_df,\"date\",\"price_num\",show_percentiles=False,group_var=\"maximum_nights_group\")"
   ]
  },
  {
   "cell_type": "code",
   "execution_count": null,
   "id": "36",
   "metadata": {},
   "outputs": [],
   "source": [
    "print(\"Properties with a likely placeholder maximum stay seem to have a precipitous decline for projected prices\")"
   ]
  },
  {
   "cell_type": "code",
   "execution_count": null,
   "id": "37",
   "metadata": {},
   "outputs": [],
   "source": [
    "cal_df.columns"
   ]
  },
  {
   "cell_type": "code",
   "execution_count": null,
   "id": "38",
   "metadata": {},
   "outputs": [],
   "source": [
    "plot_1_df = cal_df[cal_df[\"minimum_nights\"] <= 15]\n",
    "plot_1_df['minimum_nights_group'] = pd.qcut(plot_1_df['minimum_nights'], q=3,duplicates=\"drop\")\n",
    "average_x_time_plot(plot_1_df,\"date\",\"price_num\",show_percentiles=False,group_var=\"minimum_nights_group\")"
   ]
  },
  {
   "cell_type": "code",
   "execution_count": null,
   "id": "39",
   "metadata": {},
   "outputs": [],
   "source": [
    "print(\"Seems to be a difference but not huge in size\")"
   ]
  },
  {
   "cell_type": "code",
   "execution_count": null,
   "id": "40",
   "metadata": {},
   "outputs": [],
   "source": [
    "plot_2_df = cal_df[~(cal_df[\"minimum_nights\"] <= 15)]\n",
    "plot_2_df['minimum_nights_group'] = pd.qcut(plot_2_df['minimum_nights'], q=3,duplicates=\"drop\")\n",
    "average_x_time_plot(plot_2_df,\"date\",\"price_num\",show_percentiles=False,group_var=\"minimum_nights_group\")"
   ]
  },
  {
   "cell_type": "code",
   "execution_count": null,
   "id": "41",
   "metadata": {},
   "outputs": [],
   "source": [
    "print(\"Seems to be a huge difference for before 07\")"
   ]
  },
  {
   "cell_type": "markdown",
   "id": "42",
   "metadata": {},
   "source": [
    "## 1.2 - Listings"
   ]
  },
  {
   "cell_type": "code",
   "execution_count": null,
   "id": "43",
   "metadata": {},
   "outputs": [],
   "source": [
    "# View columns in the listings dataframe which provides more information on individual hosts \n",
    "list_df.columns"
   ]
  },
  {
   "cell_type": "code",
   "execution_count": null,
   "id": "44",
   "metadata": {},
   "outputs": [],
   "source": [
    "list_df.head()"
   ]
  },
  {
   "cell_type": "code",
   "execution_count": null,
   "id": "45",
   "metadata": {},
   "outputs": [],
   "source": [
    "print(\"Unique to id and last_scraped level\")"
   ]
  },
  {
   "cell_type": "markdown",
   "id": "46",
   "metadata": {},
   "source": [
    "### 1.2.1 - Time Structure in Dataframe"
   ]
  },
  {
   "cell_type": "code",
   "execution_count": null,
   "id": "47",
   "metadata": {},
   "outputs": [],
   "source": [
    "# Get a list of ids\n",
    "test_ids = list_df[\"id\"].head().values"
   ]
  },
  {
   "cell_type": "code",
   "execution_count": null,
   "id": "48",
   "metadata": {},
   "outputs": [],
   "source": [
    "# See how things change over time\n",
    "list_df[list_df[\"id\"].isin(test_ids)].sort_values(by=\"id\")"
   ]
  },
  {
   "cell_type": "code",
   "execution_count": null,
   "id": "49",
   "metadata": {},
   "outputs": [],
   "source": [
    "# How many listings have data for both years?\n",
    "list_df[\"id\"].value_counts().reset_index()[\"count\"].value_counts(normalize=True)"
   ]
  },
  {
   "cell_type": "code",
   "execution_count": null,
   "id": "50",
   "metadata": {},
   "outputs": [],
   "source": [
    "print(\"Around 50% only appear for one year\")"
   ]
  },
  {
   "cell_type": "code",
   "execution_count": null,
   "id": "51",
   "metadata": {},
   "outputs": [],
   "source": [
    "# Create average price table \n",
    "average_prices = cal_df[[\"listing_id\",\"price_num\"]].groupby(by=\"listing_id\",as_index=False).agg(\"mean\")"
   ]
  },
  {
   "cell_type": "markdown",
   "id": "52",
   "metadata": {},
   "source": [
    "### 1.2.2 - Review Data"
   ]
  },
  {
   "cell_type": "code",
   "execution_count": null,
   "id": "53",
   "metadata": {},
   "outputs": [],
   "source": [
    "# Plot histogram for review rating\n",
    "list_df[\"review_scores_rating\"].hist(bins=5)"
   ]
  },
  {
   "cell_type": "code",
   "execution_count": null,
   "id": "54",
   "metadata": {},
   "outputs": [],
   "source": [
    "# Take log to spread out distribution a bit more, add offset for reviews of 0\n",
    "np.log(list_df[\"review_scores_rating\"]+0.1).hist(bins=10)"
   ]
  },
  {
   "cell_type": "code",
   "execution_count": null,
   "id": "55",
   "metadata": {},
   "outputs": [],
   "source": [
    "list_df[\"review_scores_rating\"].isna().mean()"
   ]
  },
  {
   "cell_type": "code",
   "execution_count": null,
   "id": "56",
   "metadata": {},
   "outputs": [],
   "source": [
    "stars_and_prices = pd.merge(left=average_prices,right=list_df[[\"id\",\"review_scores_rating\"]].rename(columns={\"id\":\"listing_id\"}),how=\"inner\",on=\"listing_id\")"
   ]
  },
  {
   "cell_type": "code",
   "execution_count": null,
   "id": "57",
   "metadata": {},
   "outputs": [],
   "source": [
    "sns.scatterplot(data=stars_and_prices,x=\"review_scores_rating\",y=\"price_num\")"
   ]
  },
  {
   "cell_type": "code",
   "execution_count": null,
   "id": "58",
   "metadata": {},
   "outputs": [],
   "source": [
    "# Let's remove outliers on price\n",
    "\n",
    "lower_quantile = 0.05\n",
    "upper_quantile = 0.95\n",
    "\n",
    "# Calculate the lower and upper bounds\n",
    "price_lower = stars_and_prices['price_num'].quantile(lower_quantile)\n",
    "price_upper = stars_and_prices['price_num'].quantile(upper_quantile)\n",
    "\n",
    "# Filter the data to remove outliers\n",
    "filtered_data = stars_and_prices[\n",
    "    (stars_and_prices['price_num'] >= price_lower) &\n",
    "    (stars_and_prices['price_num'] <= price_upper)\n",
    "]\n",
    "\n",
    "\n",
    "sns.scatterplot(data=filtered_data,x=\"review_scores_rating\",y=\"price_num\")\n"
   ]
  },
  {
   "cell_type": "code",
   "execution_count": null,
   "id": "59",
   "metadata": {},
   "outputs": [],
   "source": [
    "print(\"Still quite a lot of variability, hard to spot a trend from the visualisation\")"
   ]
  },
  {
   "cell_type": "markdown",
   "id": "60",
   "metadata": {},
   "source": [
    "### 1.2.3 - Room Type"
   ]
  },
  {
   "cell_type": "code",
   "execution_count": null,
   "id": "61",
   "metadata": {},
   "outputs": [],
   "source": [
    "roomgen_and_price = pd.merge(left=average_prices,right=list_df[[\"id\",\"room_type\"]].rename(columns={\"id\":\"listing_id\"}),how=\"inner\",on=\"listing_id\")"
   ]
  },
  {
   "cell_type": "code",
   "execution_count": null,
   "id": "62",
   "metadata": {},
   "outputs": [],
   "source": []
  },
  {
   "cell_type": "markdown",
   "id": "63",
   "metadata": {},
   "source": [
    "### 1.2.4 - Number of Rooms"
   ]
  },
  {
   "cell_type": "code",
   "execution_count": null,
   "id": "64",
   "metadata": {},
   "outputs": [],
   "source": [
    "price_room_df = pd.merge(left=average_prices,right=list_df[[\"id\",\"bedrooms\"]].rename(columns={\"id\":\"listing_id\"}),how=\"inner\",on=\"listing_id\")"
   ]
  },
  {
   "cell_type": "code",
   "execution_count": null,
   "id": "65",
   "metadata": {},
   "outputs": [],
   "source": [
    "perc=0.05\n",
    "price_by_room_df = price_room_df[[\"bedrooms\",\"price_num\"]].groupby(by=\"bedrooms\",as_index=True)[\"price_num\"].agg(avg_price=\"mean\",lower_bound=lambda x: x.quantile(perc/2),\n",
    "    upper_bound=lambda x: x.quantile(1-perc/2)).reset_index()"
   ]
  },
  {
   "cell_type": "code",
   "execution_count": null,
   "id": "66",
   "metadata": {},
   "outputs": [],
   "source": [
    "price_by_room_df.head()"
   ]
  },
  {
   "cell_type": "code",
   "execution_count": null,
   "id": "67",
   "metadata": {},
   "outputs": [],
   "source": [
    "sns.barplot(data=price_by_room_df.sort_values(by=\"bedrooms\",ascending=True),x=\"bedrooms\",y=\"avg_price\")\n",
    "sns.barplot(data=price_by_room_df.sort_values(by=\"bedrooms\",ascending=True),x=\"bedrooms\",y=\"lower_bound\",color='r',alpha=0.3)\n",
    "sns.barplot(data=price_by_room_df.sort_values(by=\"bedrooms\",ascending=True),x=\"bedrooms\",y=\"upper_bound\",color='g',alpha=0.3)"
   ]
  },
  {
   "cell_type": "code",
   "execution_count": null,
   "id": "68",
   "metadata": {},
   "outputs": [],
   "source": [
    "print(\"Bedrooms seems to have some correlation to price for less than 5 bedrooms, perhaps 6 bedrooms represent hostels etc.\")"
   ]
  },
  {
   "cell_type": "code",
   "execution_count": null,
   "id": "69",
   "metadata": {},
   "outputs": [],
   "source": [
    "list_df[\"bedrooms\"].value_counts().reset_index().sort_values(by=\"bedrooms\",ascending=True)"
   ]
  },
  {
   "cell_type": "markdown",
   "id": "70",
   "metadata": {},
   "source": [
    "### 1.2.5 - Neighbourhood"
   ]
  },
  {
   "cell_type": "code",
   "execution_count": null,
   "id": "71",
   "metadata": {},
   "outputs": [],
   "source": [
    "list_df[\"neighbourhood\"].nunique()"
   ]
  },
  {
   "cell_type": "code",
   "execution_count": null,
   "id": "72",
   "metadata": {},
   "outputs": [],
   "source": [
    "list_df[\"neighbourhood_cleansed\"].nunique()"
   ]
  },
  {
   "cell_type": "code",
   "execution_count": null,
   "id": "73",
   "metadata": {},
   "outputs": [],
   "source": [
    "neighbourhood_price_df = pd.merge(left=average_prices,right=list_df[[\"id\",\"neighbourhood_cleansed\"]].rename(columns={\"id\":\"listing_id\"}),how=\"inner\",on=\"listing_id\")"
   ]
  },
  {
   "cell_type": "code",
   "execution_count": null,
   "id": "74",
   "metadata": {},
   "outputs": [],
   "source": [
    "price_by_neigh_df = neighbourhood_price_df.groupby(\"neighbourhood_cleansed\",as_index=False).agg(\"mean\")"
   ]
  },
  {
   "cell_type": "code",
   "execution_count": null,
   "id": "75",
   "metadata": {},
   "outputs": [],
   "source": [
    "sns.barplot(data=price_by_neigh_df.sort_values(by=\"price_num\",ascending=False),x=\"neighbourhood_cleansed\",y=\"price_num\",hue=\"neighbourhood_cleansed\")"
   ]
  },
  {
   "cell_type": "code",
   "execution_count": null,
   "id": "76",
   "metadata": {},
   "outputs": [],
   "source": [
    "print(\"Neighbourhood seems to have a big impact on price\")"
   ]
  },
  {
   "cell_type": "markdown",
   "id": "77",
   "metadata": {},
   "source": [
    "### 1.2.6 - All Numerical Variables"
   ]
  },
  {
   "cell_type": "code",
   "execution_count": null,
   "id": "78",
   "metadata": {},
   "outputs": [],
   "source": [
    "types_df = list_df.dtypes.reset_index()\n",
    "types_df.columns = [\"col\",\"type\"]\n",
    "types_df[\"type\"] = types_df[\"type\"].astype(str)"
   ]
  },
  {
   "cell_type": "code",
   "execution_count": null,
   "id": "79",
   "metadata": {},
   "outputs": [],
   "source": [
    "num_vars = types_df[types_df[\"type\"].apply(lambda x : True if (\"int\" in x or \"float\" in x) else False)]"
   ]
  },
  {
   "cell_type": "code",
   "execution_count": null,
   "id": "80",
   "metadata": {},
   "outputs": [],
   "source": [
    "num_vars[\"na_rate\"] = num_vars[\"col\"].apply(lambda x : list_df[x].isna().mean())"
   ]
  },
  {
   "cell_type": "code",
   "execution_count": null,
   "id": "81",
   "metadata": {},
   "outputs": [],
   "source": [
    "sns.barplot(data=num_vars.sort_values(by=\"na_rate\",ascending=False),y=\"na_rate\",x=\"col\")\n",
    "plt.xticks(rotation=90)"
   ]
  },
  {
   "cell_type": "code",
   "execution_count": null,
   "id": "82",
   "metadata": {},
   "outputs": [],
   "source": [
    "num_var_cols = num_vars[\"col\"].values"
   ]
  },
  {
   "cell_type": "code",
   "execution_count": null,
   "id": "83",
   "metadata": {},
   "outputs": [],
   "source": [
    "corr_df = pd.merge(left=list_df[num_var_cols],right=average_prices.rename(columns={\"listing_id\" : \"id\"}),how=\"inner\",on=\"id\")\n",
    "corr_df.drop(columns=[\"id\"],inplace=True)"
   ]
  },
  {
   "cell_type": "code",
   "execution_count": null,
   "id": "84",
   "metadata": {},
   "outputs": [],
   "source": [
    "# Compute correlations\n",
    "correlations = corr_df.corr()['price_num'].drop('price_num')  # Exclude price\n",
    "\n",
    "# Plot bar chart\n",
    "correlations.plot(kind='bar', title='Correlations with Price')\n",
    "plt.xlabel('Variables')\n",
    "plt.ylabel('Correlation')\n",
    "plt.show()\n"
   ]
  },
  {
   "cell_type": "markdown",
   "id": "85",
   "metadata": {},
   "source": [
    "### 1.2.6 - All Categorical Variables"
   ]
  },
  {
   "cell_type": "code",
   "execution_count": null,
   "id": "86",
   "metadata": {},
   "outputs": [],
   "source": [
    "# Reverse of the num_vars condition\n",
    "cat_vars = types_df[types_df[\"type\"].apply(lambda x : False if (\"int\" in x or \"float\" in x) else True)]"
   ]
  },
  {
   "cell_type": "code",
   "execution_count": null,
   "id": "87",
   "metadata": {},
   "outputs": [],
   "source": [
    "# Example values\n",
    "for col in cat_vars[\"col\"].values:\n",
    "    print(f\"\"\"\n",
    "    {col}\n",
    "    {list_df[col].sample(n=1,random_state=42).iloc[0]}\n",
    "    \"\"\")"
   ]
  },
  {
   "cell_type": "code",
   "execution_count": null,
   "id": "88",
   "metadata": {},
   "outputs": [],
   "source": [
    "# Which fields are redundant i.e. links or names, non-comparable data or free-text?\n",
    "redundant_fields = [\"listing_url\",\"source\",\"description\",\"host_url\",\"host_name\",\"host_about\",\"host_thumbnail_url\",\"host_picture_url\",\"license\",\"picture_url\",\"name\",\"neighborhood_overview\",\"last_scraped\",]"
   ]
  },
  {
   "cell_type": "code",
   "execution_count": null,
   "id": "89",
   "metadata": {},
   "outputs": [],
   "source": [
    "cat_vars = cat_vars[cat_vars[\"col\"].apply(lambda x : True if x not in redundant_fields else False)]"
   ]
  },
  {
   "cell_type": "code",
   "execution_count": null,
   "id": "90",
   "metadata": {},
   "outputs": [],
   "source": [
    "cat_vars"
   ]
  },
  {
   "cell_type": "code",
   "execution_count": null,
   "id": "91",
   "metadata": {},
   "outputs": [],
   "source": []
  }
 ],
 "metadata": {
  "kernelspec": {
   "display_name": "Python 3 (ipykernel)",
   "language": "python",
   "name": "python3"
  },
  "language_info": {
   "codemirror_mode": {
    "name": "ipython",
    "version": 3
   },
   "file_extension": ".py",
   "mimetype": "text/x-python",
   "name": "python",
   "nbconvert_exporter": "python",
   "pygments_lexer": "ipython3",
   "version": "3.12.3"
  }
 },
 "nbformat": 4,
 "nbformat_minor": 5
}
